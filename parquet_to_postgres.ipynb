{
 "cells": [
  {
   "cell_type": "markdown",
   "id": "d9969880-7e15-48e8-a297-d0f301975dd1",
   "metadata": {},
   "source": [
    "# Data Ingestion Parquet To PostgreSQL"
   ]
  },
  {
   "cell_type": "code",
   "execution_count": 1,
   "id": "a74a43ba-697c-4d5a-8bba-e309876d0350",
   "metadata": {},
   "outputs": [],
   "source": [
    "import pandas as pd"
   ]
  },
  {
   "cell_type": "code",
   "execution_count": 2,
   "id": "871d1e77-54f4-4a80-af0a-dceb59605cdd",
   "metadata": {},
   "outputs": [],
   "source": [
    "df = pd.read_parquet('CO2 Emission Country.parquet')"
   ]
  },
  {
   "cell_type": "code",
   "execution_count": 3,
   "id": "acf1b514-9066-4db9-9a89-8d4a8f9a4750",
   "metadata": {},
   "outputs": [
    {
     "data": {
      "text/html": [
       "<div>\n",
       "<style scoped>\n",
       "    .dataframe tbody tr th:only-of-type {\n",
       "        vertical-align: middle;\n",
       "    }\n",
       "\n",
       "    .dataframe tbody tr th {\n",
       "        vertical-align: top;\n",
       "    }\n",
       "\n",
       "    .dataframe thead th {\n",
       "        text-align: right;\n",
       "    }\n",
       "</style>\n",
       "<table border=\"1\" class=\"dataframe\">\n",
       "  <thead>\n",
       "    <tr style=\"text-align: right;\">\n",
       "      <th></th>\n",
       "      <th>Location</th>\n",
       "      <th>% of global total</th>\n",
       "      <th>Fossil emissions 2023</th>\n",
       "      <th>Fossil emissions 2000</th>\n",
       "      <th>% change from 2000</th>\n",
       "    </tr>\n",
       "  </thead>\n",
       "  <tbody>\n",
       "    <tr>\n",
       "      <th>0</th>\n",
       "      <td>China</td>\n",
       "      <td>34.0%</td>\n",
       "      <td>13,259.64</td>\n",
       "      <td>3,666.95</td>\n",
       "      <td>+262%</td>\n",
       "    </tr>\n",
       "    <tr>\n",
       "      <th>1</th>\n",
       "      <td>United States</td>\n",
       "      <td>12.0%</td>\n",
       "      <td>4,682.04</td>\n",
       "      <td>5,928.97</td>\n",
       "      <td>−21%</td>\n",
       "    </tr>\n",
       "    <tr>\n",
       "      <th>2</th>\n",
       "      <td>India</td>\n",
       "      <td>7.6%</td>\n",
       "      <td>2,955.18</td>\n",
       "      <td>995.65</td>\n",
       "      <td>+197%</td>\n",
       "    </tr>\n",
       "    <tr>\n",
       "      <th>3</th>\n",
       "      <td>European Union</td>\n",
       "      <td>6.4%</td>\n",
       "      <td>2,512.07</td>\n",
       "      <td>3,563.26</td>\n",
       "      <td>−30%</td>\n",
       "    </tr>\n",
       "    <tr>\n",
       "      <th>4</th>\n",
       "      <td>Russia</td>\n",
       "      <td>5.3%</td>\n",
       "      <td>2,069.50</td>\n",
       "      <td>1,681.14</td>\n",
       "      <td>+23%</td>\n",
       "    </tr>\n",
       "  </tbody>\n",
       "</table>\n",
       "</div>"
      ],
      "text/plain": [
       "         Location % of global total Fossil emissions 2023  \\\n",
       "0           China             34.0%             13,259.64   \n",
       "1   United States             12.0%              4,682.04   \n",
       "2           India              7.6%              2,955.18   \n",
       "3  European Union              6.4%              2,512.07   \n",
       "4          Russia              5.3%              2,069.50   \n",
       "\n",
       "  Fossil emissions 2000 % change from 2000  \n",
       "0              3,666.95              +262%  \n",
       "1              5,928.97               −21%  \n",
       "2                995.65              +197%  \n",
       "3              3,563.26               −30%  \n",
       "4              1,681.14               +23%  "
      ]
     },
     "execution_count": 3,
     "metadata": {},
     "output_type": "execute_result"
    }
   ],
   "source": [
    "df.head()"
   ]
  },
  {
   "cell_type": "code",
   "execution_count": 4,
   "id": "82fd6433-e4de-4711-95a6-89305deb5e35",
   "metadata": {},
   "outputs": [
    {
     "data": {
      "text/html": [
       "<div>\n",
       "<style scoped>\n",
       "    .dataframe tbody tr th:only-of-type {\n",
       "        vertical-align: middle;\n",
       "    }\n",
       "\n",
       "    .dataframe tbody tr th {\n",
       "        vertical-align: top;\n",
       "    }\n",
       "\n",
       "    .dataframe thead th {\n",
       "        text-align: right;\n",
       "    }\n",
       "</style>\n",
       "<table border=\"1\" class=\"dataframe\">\n",
       "  <thead>\n",
       "    <tr style=\"text-align: right;\">\n",
       "      <th></th>\n",
       "      <th>Location</th>\n",
       "      <th>% of global total</th>\n",
       "      <th>Fossil emissions 2023</th>\n",
       "      <th>Fossil emissions 2000</th>\n",
       "      <th>% change from 2000</th>\n",
       "    </tr>\n",
       "  </thead>\n",
       "  <tbody>\n",
       "    <tr>\n",
       "      <th>count</th>\n",
       "      <td>211</td>\n",
       "      <td>211</td>\n",
       "      <td>211</td>\n",
       "      <td>211</td>\n",
       "      <td>211</td>\n",
       "    </tr>\n",
       "    <tr>\n",
       "      <th>unique</th>\n",
       "      <td>211</td>\n",
       "      <td>47</td>\n",
       "      <td>201</td>\n",
       "      <td>194</td>\n",
       "      <td>156</td>\n",
       "    </tr>\n",
       "    <tr>\n",
       "      <th>top</th>\n",
       "      <td>China</td>\n",
       "      <td>0.02%</td>\n",
       "      <td>0.10</td>\n",
       "      <td>0.06</td>\n",
       "      <td>−33%</td>\n",
       "    </tr>\n",
       "    <tr>\n",
       "      <th>freq</th>\n",
       "      <td>1</td>\n",
       "      <td>24</td>\n",
       "      <td>3</td>\n",
       "      <td>4</td>\n",
       "      <td>4</td>\n",
       "    </tr>\n",
       "  </tbody>\n",
       "</table>\n",
       "</div>"
      ],
      "text/plain": [
       "       Location % of global total Fossil emissions 2023 Fossil emissions 2000  \\\n",
       "count       211               211                   211                   211   \n",
       "unique      211                47                   201                   194   \n",
       "top       China             0.02%                  0.10                  0.06   \n",
       "freq          1                24                     3                     4   \n",
       "\n",
       "       % change from 2000  \n",
       "count                 211  \n",
       "unique                156  \n",
       "top                  −33%  \n",
       "freq                    4  "
      ]
     },
     "execution_count": 4,
     "metadata": {},
     "output_type": "execute_result"
    }
   ],
   "source": [
    "df.describe()"
   ]
  },
  {
   "cell_type": "code",
   "execution_count": 5,
   "id": "138915c9-0686-424d-a8d4-bbc5745aec07",
   "metadata": {},
   "outputs": [
    {
     "name": "stdout",
     "output_type": "stream",
     "text": [
      "<class 'pandas.core.frame.DataFrame'>\n",
      "RangeIndex: 211 entries, 0 to 210\n",
      "Data columns (total 5 columns):\n",
      " #   Column                 Non-Null Count  Dtype \n",
      "---  ------                 --------------  ----- \n",
      " 0   Location               211 non-null    object\n",
      " 1   % of global total      211 non-null    object\n",
      " 2   Fossil emissions 2023  211 non-null    object\n",
      " 3   Fossil emissions 2000  211 non-null    object\n",
      " 4   % change from 2000     211 non-null    object\n",
      "dtypes: object(5)\n",
      "memory usage: 8.4+ KB\n"
     ]
    }
   ],
   "source": [
    "df.info()"
   ]
  },
  {
   "cell_type": "markdown",
   "id": "ca2fc32e-ccce-4cfe-9513-004a61cb907c",
   "metadata": {},
   "source": [
    "# Remove % string from [% of global total]"
   ]
  },
  {
   "cell_type": "code",
   "execution_count": 6,
   "id": "630a5831-1c7e-46ac-a6ee-a92c84bf5244",
   "metadata": {},
   "outputs": [],
   "source": [
    "df['% of global total'] = df['% of global total'].str.replace('%', '', regex=False)"
   ]
  },
  {
   "cell_type": "code",
   "execution_count": 7,
   "id": "acdbab35-2e02-4796-8d9e-d5449057b02e",
   "metadata": {},
   "outputs": [
    {
     "data": {
      "text/plain": [
       "0    34.0\n",
       "1    12.0\n",
       "2     7.6\n",
       "3     6.4\n",
       "4     5.3\n",
       "Name: % of global total, dtype: object"
      ]
     },
     "execution_count": 7,
     "metadata": {},
     "output_type": "execute_result"
    }
   ],
   "source": [
    "df['% of global total'].head()"
   ]
  },
  {
   "cell_type": "markdown",
   "id": "5649dc5f-0ae7-4029-9d99-7beddfc91db3",
   "metadata": {},
   "source": [
    "# Convert object to numeric [% of global total]"
   ]
  },
  {
   "cell_type": "code",
   "execution_count": 8,
   "id": "c5c0cbd1-1711-43c1-b698-d6a630ed31b0",
   "metadata": {},
   "outputs": [],
   "source": [
    "df['% of global total'] = pd.to_numeric(df['% of global total'], errors='raise')"
   ]
  },
  {
   "cell_type": "code",
   "execution_count": 9,
   "id": "6d296ee6-af50-4a7f-bc79-2e0e6c9bf72e",
   "metadata": {},
   "outputs": [
    {
     "data": {
      "text/plain": [
       "0    34.0\n",
       "1    12.0\n",
       "2     7.6\n",
       "3     6.4\n",
       "4     5.3\n",
       "Name: % of global total, dtype: float64"
      ]
     },
     "execution_count": 9,
     "metadata": {},
     "output_type": "execute_result"
    }
   ],
   "source": [
    "df['% of global total'].head()"
   ]
  },
  {
   "cell_type": "markdown",
   "id": "588f9247-ebfd-4032-aadb-0c1b23f7ec92",
   "metadata": {},
   "source": [
    "# Remove string ',' from [Fossil Emissin 2023]"
   ]
  },
  {
   "cell_type": "code",
   "execution_count": 10,
   "id": "56d9f0ff-a14c-4506-b357-e74e39a0cf96",
   "metadata": {},
   "outputs": [],
   "source": [
    "df['Fossil emissions 2023'] = df['Fossil emissions 2023'].str.replace(',', '', regex=False)"
   ]
  },
  {
   "cell_type": "markdown",
   "id": "badd5f38-e510-4c3c-b0a9-286bdf82af4b",
   "metadata": {},
   "source": [
    "# Conver object to numeric [Fossil emission 2023]"
   ]
  },
  {
   "cell_type": "code",
   "execution_count": 11,
   "id": "1d2c6282-05cf-4556-bd02-41e9a96c8ef1",
   "metadata": {},
   "outputs": [],
   "source": [
    "df['Fossil emissions 2023'] = pd.to_numeric(df['Fossil emissions 2023'], errors='raise')"
   ]
  },
  {
   "cell_type": "code",
   "execution_count": 13,
   "id": "0b86e65e-1c72-4eb0-b30c-eeb26b7dae1c",
   "metadata": {},
   "outputs": [
    {
     "data": {
      "text/plain": [
       "0    13259.64\n",
       "1     4682.04\n",
       "2     2955.18\n",
       "3     2512.07\n",
       "4     2069.50\n",
       "Name: Fossil emissions 2023, dtype: float64"
      ]
     },
     "execution_count": 13,
     "metadata": {},
     "output_type": "execute_result"
    }
   ],
   "source": [
    "df['Fossil emissions 2023'].head()"
   ]
  },
  {
   "cell_type": "markdown",
   "id": "a511c678-511a-4eea-93d7-49f871245c9f",
   "metadata": {},
   "source": [
    "# Remove ',' & 'no' string from [Fossil emissions 2000]"
   ]
  },
  {
   "cell_type": "code",
   "execution_count": 16,
   "id": "1ca93252-782d-4919-8203-068ec97a49bf",
   "metadata": {},
   "outputs": [],
   "source": [
    "df['Fossil emissions 2000'] = df['Fossil emissions 2000'].str.replace(',', '', regex=False)"
   ]
  },
  {
   "cell_type": "code",
   "execution_count": 17,
   "id": "1e98c234-436d-4456-a8c1-ac402fc2a11e",
   "metadata": {},
   "outputs": [],
   "source": [
    "df['Fossil emissions 2000'] = df['Fossil emissions 2000'].str.replace('no', '', regex=False)"
   ]
  },
  {
   "cell_type": "markdown",
   "id": "ce51f75a-f333-45f9-9701-664adaac5ab3",
   "metadata": {},
   "source": [
    "# Convert to numeric [Fossil emisions 2000]"
   ]
  },
  {
   "cell_type": "code",
   "execution_count": 20,
   "id": "619339cd-3137-48f6-b795-1b4e0b5552b3",
   "metadata": {},
   "outputs": [],
   "source": [
    "df['Fossil emissions 2000'] = pd.to_numeric(df['Fossil emissions 2000'], errors='raise')"
   ]
  },
  {
   "cell_type": "code",
   "execution_count": 21,
   "id": "2e4b5503-f20e-44b9-8c96-2dcceb07ae11",
   "metadata": {},
   "outputs": [
    {
     "data": {
      "text/plain": [
       "0    3666.95\n",
       "1    5928.97\n",
       "2     995.65\n",
       "3    3563.26\n",
       "4    1681.14\n",
       "Name: Fossil emissions 2000, dtype: float64"
      ]
     },
     "execution_count": 21,
     "metadata": {},
     "output_type": "execute_result"
    }
   ],
   "source": [
    "df['Fossil emissions 2000'].head()"
   ]
  },
  {
   "cell_type": "markdown",
   "id": "a29dffec-91a4-438d-8bdb-13983b8096c0",
   "metadata": {},
   "source": [
    "# Remove '%' '+' string from [% change from 2000]"
   ]
  },
  {
   "cell_type": "code",
   "execution_count": 22,
   "id": "a28b5065-760a-42f2-b771-d5c20aa91ccb",
   "metadata": {},
   "outputs": [],
   "source": [
    "df['% change from 2000'] = df['% change from 2000'].str.replace('%', '', regex=False)"
   ]
  },
  {
   "cell_type": "code",
   "execution_count": 23,
   "id": "9d426a44-e6fa-46c2-b591-62a778a5518f",
   "metadata": {},
   "outputs": [],
   "source": [
    "df['% change from 2000'] = df['% change from 2000'].str.replace('+', '', regex=False)"
   ]
  },
  {
   "cell_type": "code",
   "execution_count": 24,
   "id": "65b460e8-40f3-4af9-b2a4-5a5e003c1366",
   "metadata": {},
   "outputs": [],
   "source": [
    "df['% change from 2000'] = df['% change from 2000'].str.replace(\"−\", \"-\")"
   ]
  },
  {
   "cell_type": "markdown",
   "id": "fc34640e-e8e1-4164-aded-beeea3f004af",
   "metadata": {},
   "source": [
    "# Remove ',' & 'change' from [% change from 2000]"
   ]
  },
  {
   "cell_type": "code",
   "execution_count": 25,
   "id": "c5c5d10d-343a-4ff4-854c-273d9c9e056f",
   "metadata": {},
   "outputs": [],
   "source": [
    "df['% change from 2000'] = df['% change from 2000'].str.replace(',', '', regex=False)"
   ]
  },
  {
   "cell_type": "code",
   "execution_count": 26,
   "id": "3cfcc5cc-2b8f-44a4-9ecd-84c97e03f32b",
   "metadata": {},
   "outputs": [],
   "source": [
    "df['% change from 2000'] = df['% change from 2000'].str.replace('change', '', regex=False)"
   ]
  },
  {
   "cell_type": "markdown",
   "id": "8a799c96-81fd-4a1e-9766-517ccbbd603f",
   "metadata": {},
   "source": [
    "# Convert objrct to numeric [% change from 2000]"
   ]
  },
  {
   "cell_type": "code",
   "execution_count": 27,
   "id": "e1e2d5cb-2cb9-4fa6-8f1a-4d3f7054035c",
   "metadata": {},
   "outputs": [],
   "source": [
    "df['% change from 2000'] = pd.to_numeric(df['% change from 2000'], errors='raise')"
   ]
  },
  {
   "cell_type": "code",
   "execution_count": 28,
   "id": "92e78f4f-5c62-43d3-b858-53d133762b03",
   "metadata": {},
   "outputs": [
    {
     "name": "stdout",
     "output_type": "stream",
     "text": [
      "<class 'pandas.core.series.Series'>\n",
      "RangeIndex: 211 entries, 0 to 210\n",
      "Series name: % change from 2000\n",
      "Non-Null Count  Dtype  \n",
      "--------------  -----  \n",
      "210 non-null    float64\n",
      "dtypes: float64(1)\n",
      "memory usage: 1.8 KB\n"
     ]
    }
   ],
   "source": [
    "df['% change from 2000'].info()"
   ]
  },
  {
   "cell_type": "code",
   "execution_count": 29,
   "id": "40c6a2a1-a201-4d18-8419-8a81bf7ed65c",
   "metadata": {},
   "outputs": [
    {
     "name": "stdout",
     "output_type": "stream",
     "text": [
      "<class 'pandas.core.frame.DataFrame'>\n",
      "RangeIndex: 211 entries, 0 to 210\n",
      "Data columns (total 5 columns):\n",
      " #   Column                 Non-Null Count  Dtype  \n",
      "---  ------                 --------------  -----  \n",
      " 0   Location               211 non-null    object \n",
      " 1   % of global total      211 non-null    float64\n",
      " 2   Fossil emissions 2023  211 non-null    float64\n",
      " 3   Fossil emissions 2000  210 non-null    float64\n",
      " 4   % change from 2000     210 non-null    float64\n",
      "dtypes: float64(4), object(1)\n",
      "memory usage: 8.4+ KB\n"
     ]
    }
   ],
   "source": [
    "df.info()"
   ]
  },
  {
   "cell_type": "markdown",
   "id": "e3d8fbd5-1d6a-42e3-9674-b824382e58f9",
   "metadata": {},
   "source": [
    "# Import python library to connect & interaction with postgreSQL"
   ]
  },
  {
   "cell_type": "code",
   "execution_count": 30,
   "id": "9443ea9a-4ed5-42f1-b859-b75b9f0a2eaa",
   "metadata": {},
   "outputs": [],
   "source": [
    "from sqlalchemy import create_engine\n",
    "import psycopg2"
   ]
  },
  {
   "cell_type": "markdown",
   "id": "53d89847-0230-4f5e-9789-a605493bc4f8",
   "metadata": {},
   "source": [
    "# Create database connection"
   ]
  },
  {
   "cell_type": "code",
   "execution_count": 31,
   "id": "74304a92-dc56-447f-a0d5-4171897b1d7f",
   "metadata": {},
   "outputs": [],
   "source": [
    "db_config = {\n",
    "    'host':'localhost',\n",
    "    'database':'parquetpostgres',\n",
    "    'user':'postgres',\n",
    "    'password':'postgres'\n",
    "}"
   ]
  },
  {
   "cell_type": "markdown",
   "id": "1d72adf9-8dc7-4f98-9605-adbe4bcb7619",
   "metadata": {},
   "source": [
    "# Create table name"
   ]
  },
  {
   "cell_type": "code",
   "execution_count": 32,
   "id": "fd60f5c8-28a9-434e-822e-0081ab4c11ca",
   "metadata": {},
   "outputs": [],
   "source": [
    "table_name = 'co2_emission'"
   ]
  },
  {
   "cell_type": "markdown",
   "id": "6d1be5c6-447f-484b-825a-2bff5661f369",
   "metadata": {},
   "source": [
    "# Load data frame into postgreSQL"
   ]
  },
  {
   "cell_type": "code",
   "execution_count": 33,
   "id": "ac6a21b2-8310-49e9-bd47-acb548322284",
   "metadata": {},
   "outputs": [
    {
     "name": "stdout",
     "output_type": "stream",
     "text": [
      "An unexpected error occurred: (psycopg2.errors.UndefinedColumn) column \"Location\" of relation \"co2_emission\" does not exist\n",
      "LINE 1: INSERT INTO co2_emission (\"Location\", \"% of global total\", \"...\n",
      "                                  ^\n",
      "\n",
      "[SQL: INSERT INTO co2_emission (\"Location\", \"%% of global total\", \"Fossil emissions 2023\", \"Fossil emissions 2000\", \"%% change from 2000\") VALUES (%(Location__0)s, %(P_of_global_total__0)s, %(Fossil_emissions_2023__0)s, %(Fossil_emissions_2000__0)s, %(P_ch ... 29200 characters truncated ... _210)s, %(Fossil_emissions_2023__210)s, %(Fossil_emissions_2000__210)s, %(P_change_from_2000__210)s)]\n",
      "[parameters: {'P_change_from_2000__0': 262.0, 'Fossil_emissions_2000__0': 3666.95, 'Fossil_emissions_2023__0': 13259.64, 'P_of_global_total__0': 34.0, 'Location__0': 'China', 'P_change_from_2000__1': -21.0, 'Fossil_emissions_2000__1': 5928.97, 'Fossil_emissions_2023__1': 4682.04, 'P_of_global_total__1': 12.0, 'Location__1': 'United States', 'P_change_from_2000__2': 197.0, 'Fossil_emissions_2000__2': 995.65, 'Fossil_emissions_2023__2': 2955.18, 'P_of_global_total__2': 7.6, 'Location__2': 'India', 'P_change_from_2000__3': -30.0, 'Fossil_emissions_2000__3': 3563.26, 'Fossil_emissions_2023__3': 2512.07, 'P_of_global_total__3': 6.4, 'Location__3': 'European Union', 'P_change_from_2000__4': 23.0, 'Fossil_emissions_2000__4': 1681.14, 'Fossil_emissions_2023__4': 2069.5, 'P_of_global_total__4': 5.3, 'Location__4': 'Russia', 'P_change_from_2000__5': -24.0, 'Fossil_emissions_2000__5': 1248.81, 'Fossil_emissions_2023__5': 944.76, 'P_of_global_total__5': 2.4, 'Location__5': 'Japan', 'P_change_from_2000__6': 120.0, 'Fossil_emissions_2000__6': 353.93, 'Fossil_emissions_2023__6': 778.8, 'P_of_global_total__6': 2.0, 'Location__6': 'Iran', 'P_change_from_2000__7': 40.0, 'Fossil_emissions_2000__7': 503.29, 'Fossil_emissions_2023__7': 706.32, 'P_of_global_total__7': 1.8, 'Location__7': 'International Shipping', 'P_change_from_2000__8': 126.0, 'Fossil_emissions_2000__8': 299.09, 'Fossil_emissions_2023__8': 674.54, 'P_of_global_total__8': 1.7, 'Location__8': 'Indonesia', 'P_change_from_2000__9': 135.0, 'Fossil_emissions_2000__9': 265.24, 'Fossil_emissions_2023__9': 622.91, 'P_of_global_total__9': 1.6, 'Location__9': 'Saudi Arabia' ... 955 parameters truncated ... 'P_change_from_2000__201': 481.0, 'Fossil_emissions_2000__201': 0.02, 'Fossil_emissions_2023__201': 0.1, 'P_of_global_total__201': 0.0003, 'Location__201': 'Turks and Caicos Islands', 'P_change_from_2000__202': 197.0, 'Fossil_emissions_2000__202': 0.03, 'Fossil_emissions_2023__202': 0.1, 'P_of_global_total__202': 0.0002, 'Location__202': 'Kiribati', 'P_change_from_2000__203': 131.0, 'Fossil_emissions_2000__203': 0.04, 'Fossil_emissions_2023__203': 0.1, 'P_of_global_total__203': 0.0002, 'Location__203': 'Saint Vincent and the Grenadines', 'P_change_from_2000__204': 44.0, 'Fossil_emissions_2000__204': 0.06, 'Fossil_emissions_2023__204': 0.08, 'P_of_global_total__204': 0.0002, 'Location__204': 'Dominica', 'P_change_from_2000__205': 172.0, 'Fossil_emissions_2000__205': 0.03, 'Fossil_emissions_2023__205': 0.08, 'P_of_global_total__205': 0.0002, 'Location__205': 'British Virgin Islands', 'P_change_from_2000__206': 129.0, 'Fossil_emissions_2000__206': 0.02, 'Fossil_emissions_2023__206': 0.04, 'P_of_global_total__206': 0.0001, 'Location__206': 'Saint Pierre and Miquelon', 'P_change_from_2000__207': 48.0, 'Fossil_emissions_2000__207': 0.02, 'Fossil_emissions_2023__207': 0.02, 'P_of_global_total__207': 0.0001, 'Location__207': 'Anguilla', 'P_change_from_2000__208': 170.0, 'Fossil_emissions_2000__208': 0.01, 'Fossil_emissions_2023__208': 0.02, 'P_of_global_total__208': 0.0, 'Location__208': 'Falkland Islands', 'P_change_from_2000__209': 58.0, 'Fossil_emissions_2000__209': 0.01, 'Fossil_emissions_2023__209': 0.02, 'P_of_global_total__209': 0.0, 'Location__209': 'Saint Helena, Ascension and Tristan da Cunha', 'P_change_from_2000__210': 20.0, 'Fossil_emissions_2000__210': 0.0, 'Fossil_emissions_2023__210': 0.0, 'P_of_global_total__210': 0.0, 'Location__210': 'Faroe Islands'}]\n",
      "(Background on this error at: https://sqlalche.me/e/20/f405)\n",
      "PostgreSQL connection closed.\n"
     ]
    }
   ],
   "source": [
    "try:\n",
    "    conn = psycopg2.connect(**db_config)\n",
    "    cursor = conn.cursor()\n",
    "\n",
    "    create_table_sql = f\"\"\"\n",
    "    CREATE TABLE IF NOT EXISTS {table_name} (\n",
    "        location VARCHAR(100),\n",
    "        global_total DECIMAL(10,2),\n",
    "        emission_2023 DECIMAL(10,2),\n",
    "        emission_2000 DECIMAL(10,2),\n",
    "        change_2000 DECIMAL(10,2)\n",
    "    );\n",
    "    \"\"\"\n",
    "    cursor.execute(create_table_sql)\n",
    "    conn.commit()\n",
    "\n",
    "    for index, row in df.iterrows():\n",
    "        sql = f\"\"\"\n",
    "        INSERT INTO {table_name} (location, global_total, emission_2023, emission_2000, change_2000)\n",
    "        VALUES (%s, %s, %s, %s, %s);\n",
    "        \"\"\"\n",
    "        cursor.execute(sql, row.tolist())\n",
    "\n",
    "    conn.commit()\n",
    "\n",
    "    engine = create_engine(f\"postgresql+psycopg2://{db_config['user']}:{db_config['password']}@{db_config['host']}:{db_config.get('port', 5432)}/{db_config['database']}\")\n",
    "    df.to_sql(table_name, engine, if_exists='append', index=False)\n",
    "\n",
    "except psycopg2.Error as e:\n",
    "    print(f\"Error connecting to or interacting with PostgreSQL: {e}\")\n",
    "\n",
    "except Exception as e:\n",
    "    print(f\"An unexpected error occurred: {e}\")\n",
    "finally:\n",
    "    if 'conn' in locals() and conn is not None:\n",
    "        cursor.close()\n",
    "        conn.close()\n",
    "        print(\"PostgreSQL connection closed.\")"
   ]
  },
  {
   "cell_type": "code",
   "execution_count": null,
   "id": "daef9dcf-5768-4e3a-a0fb-f3ea8a3cfb00",
   "metadata": {},
   "outputs": [],
   "source": []
  }
 ],
 "metadata": {
  "kernelspec": {
   "display_name": "Python 3 (ipykernel)",
   "language": "python",
   "name": "python3"
  },
  "language_info": {
   "codemirror_mode": {
    "name": "ipython",
    "version": 3
   },
   "file_extension": ".py",
   "mimetype": "text/x-python",
   "name": "python",
   "nbconvert_exporter": "python",
   "pygments_lexer": "ipython3",
   "version": "3.10.12"
  }
 },
 "nbformat": 4,
 "nbformat_minor": 5
}
